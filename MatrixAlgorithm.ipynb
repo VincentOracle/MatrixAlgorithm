{
 "cells": [
  {
   "cell_type": "code",
   "execution_count": 29,
   "id": "c0491e6d",
   "metadata": {},
   "outputs": [],
   "source": [
    "import numpy as np\n",
    "\n",
    "def swap_rows(matrix, i, j):\n",
    "    matrix[[i,j],:] = matrix[[j,i],:]\n",
    "\n",
    "def inverse(matrix):\n",
    "    n = len(matrix)\n",
    "    # Check if the matrix is square\n",
    "    if matrix.shape != (n, n):\n",
    "        return None\n",
    "    # Check if the matrix is nonsingular\n",
    "    if np.linalg.det(matrix) == 0:\n",
    "        return None\n",
    "    L = np.identity(n)\n",
    "    U = matrix.copy()\n",
    "    # Gaussian elimination to get LU decomposition\n",
    "    for i in range(n-1):\n",
    "        # Find pivot row with max value\n",
    "        pivot_row = np.argmax(abs(U[i:,i])) + i\n",
    "        if pivot_row != i:\n",
    "            swap_rows(U, i, pivot_row)\n",
    "            swap_rows(L, i, pivot_row)\n",
    "        # Eliminate entries below pivot\n",
    "        for j in range(i+1, n):\n",
    "            factor = U[j][i] / U[i][i]\n",
    "            U[j][i] = 0\n",
    "            L[j][i] = factor\n",
    "            U[j][i+1:] -= factor * U[i][i+1:].astype(float)\n",
    "    # Calculate inverse of U using back-substitution\n",
    "    U_inv = np.identity(n)\n",
    "    for i in range(n-1, -1, -1):\n",
    "        for j in range(i+1, n):\n",
    "            factor = U[i][j]\n",
    "            U_inv[i] -= factor * U_inv[j]\n",
    "        U_inv[i] /= U[i][i]\n",
    "    # Calculate inverse of A\n",
    "    A_inv = np.dot(U_inv, np.linalg.inv(L))\n",
    "    return A_inv\n",
    "\n",
    "\n",
    "\n"
   ]
  }
 ],
 "metadata": {
  "kernelspec": {
   "display_name": "Python 3 (ipykernel)",
   "language": "python",
   "name": "python3"
  },
  "language_info": {
   "codemirror_mode": {
    "name": "ipython",
    "version": 3
   },
   "file_extension": ".py",
   "mimetype": "text/x-python",
   "name": "python",
   "nbconvert_exporter": "python",
   "pygments_lexer": "ipython3",
   "version": "3.10.9"
  }
 },
 "nbformat": 4,
 "nbformat_minor": 5
}
